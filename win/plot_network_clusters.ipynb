{
 "cells": [
  {
   "cell_type": "code",
   "execution_count": 2,
   "metadata": {
    "collapsed": true
   },
   "outputs": [],
   "source": [
    "import utils\n",
    "import networkx as nx"
   ]
  },
  {
   "cell_type": "code",
   "execution_count": 113,
   "metadata": {
    "collapsed": true
   },
   "outputs": [],
   "source": [
    "G = nx.DiGraph()\n",
    "edges = [ (('attend', 'meet'), 'provid'),\n",
    " (('attend', 'meet'), ('section', '302')),\n",
    " (('cbi', 'offici'), ('constant', 'touch')),\n",
    " (('decemb', '2010'), ('attend', 'meet')),\n",
    " (('section', '302'), ('decemb', '2010')),\n",
    " (('section', '302'), ('foreign', 'affair')),\n",
    " (('delhi', 'polic'), ('decemb', '2010')),\n",
    " ('provid', ('attend', 'meet')),\n",
    " ('provid', ('constant', 'touch')),\n",
    " (('foreign', 'affair'), ('cbi', 'offici'))]\n",
    "for u, v in edges:\n",
    "    G.add_node(u)\n",
    "    G.add_node(v)\n",
    "    G.add_edge(u, v)\n"
   ]
  },
  {
   "cell_type": "code",
   "execution_count": 124,
   "metadata": {},
   "outputs": [],
   "source": [
    "G = utils.read_pickle('/scratch/balash/final-output/lasso/lasso_alpha_5_6_network')"
   ]
  },
  {
   "cell_type": "code",
   "execution_count": 127,
   "metadata": {},
   "outputs": [],
   "source": [
    "import matplotlib.pyplot as plt\n",
    "nx.draw_networkx(G,with_labels=False,pos=nx.spring_layout(G))\n",
    "#plt.show()\n",
    "plt.savefig('../unigram-structure.png')"
   ]
  },
  {
   "cell_type": "code",
   "execution_count": 126,
   "metadata": {},
   "outputs": [],
   "source": [
    "plt.clf()"
   ]
  }
 ],
 "metadata": {
  "kernelspec": {
   "display_name": "Python 2",
   "language": "python",
   "name": "python2"
  },
  "language_info": {
   "codemirror_mode": {
    "name": "ipython",
    "version": 2
   },
   "file_extension": ".py",
   "mimetype": "text/x-python",
   "name": "python",
   "nbconvert_exporter": "python",
   "pygments_lexer": "ipython2",
   "version": "2.7.13"
  }
 },
 "nbformat": 4,
 "nbformat_minor": 2
}
