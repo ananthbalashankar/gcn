{
 "cells": [
  {
   "cell_type": "code",
   "execution_count": 5,
   "metadata": {
    "collapsed": true
   },
   "outputs": [],
   "source": [
    "import utils\n",
    "import networkx as nx\n",
    "import numpy as np"
   ]
  },
  {
   "cell_type": "code",
   "execution_count": 23,
   "metadata": {
    "collapsed": true
   },
   "outputs": [],
   "source": [
    "G = utils.read_pickle('/scratch/balash/final-output/trigger-nx-network')\n",
    "scc = list(nx.strongly_connected_components(G))\n",
    "scc_lens = [len(i) for i in scc]\n",
    "counts, bin_edges = np.histogram(scc_lens, bins=10)"
   ]
  },
  {
   "cell_type": "code",
   "execution_count": 8,
   "metadata": {
    "collapsed": true
   },
   "outputs": [],
   "source": [
    "def create_hc(G):\n",
    "    \"\"\"Creates hierarchical cluster of graph G from distance matrix\"\"\"\n",
    "    path_length=nx.all_pairs_shortest_path_length(G)\n",
    "    distances=np.zeros((len(G),len(G)))\n",
    "    vocab = {}\n",
    "    for u,p in path_length.items():\n",
    "        for v,d in p.items():\n",
    "            if u not in vocab:\n",
    "                vocab[u] = len(vocab)\n",
    "            if v not in vocab:\n",
    "                vocab[v] = len(vocab)\n",
    "            distances[vocab[u]][vocab[v]]=d\n",
    "            \n",
    "    return distances, vocab\n",
    "\n",
    "distances, vocab = create_hc(G)\n"
   ]
  },
  {
   "cell_type": "code",
   "execution_count": 9,
   "metadata": {
    "collapsed": true
   },
   "outputs": [],
   "source": [
    "from scipy.cluster import hierarchy\n",
    "Z=hierarchy.complete(distances)\n",
    "cl = hierarchy.fcluster(Z, t=75, criterion='maxclust')\n",
    "counts, bin_edges = np.histogram(cl, bins=75)\n",
    "cluster_ids = [j+1 for j,i in enumerate(counts) if i >= 5 and i <=30]"
   ]
  },
  {
   "cell_type": "code",
   "execution_count": 10,
   "metadata": {
    "collapsed": true
   },
   "outputs": [],
   "source": [
    "utils.write_pickle(distances, '../trigger-distances')\n",
    "utils.write_pickle(vocab, '../trigger-vocab')"
   ]
  },
  {
   "cell_type": "code",
   "execution_count": 24,
   "metadata": {
    "collapsed": true
   },
   "outputs": [],
   "source": [
    "vocab = utils.read_pickle('../trigger-vocab')\n",
    "inv_vocab = {}\n",
    "for k, v in vocab.iteritems():\n",
    "    inv_vocab[v] = k"
   ]
  },
  {
   "cell_type": "code",
   "execution_count": 25,
   "metadata": {
    "collapsed": true
   },
   "outputs": [],
   "source": [
    "maxcluster = 2000"
   ]
  },
  {
   "cell_type": "code",
   "execution_count": 26,
   "metadata": {
    "collapsed": true
   },
   "outputs": [],
   "source": [
    "from scipy.cluster import hierarchy\n",
    "vocab = utils.read_pickle('../trigger-vocab')\n",
    "distances = utils.read_pickle('../trigger-distances')\n",
    "Z=hierarchy.complete(distances)\n",
    "cl = hierarchy.fcluster(Z, t=maxcluster, criterion='maxclust')\n"
   ]
  },
  {
   "cell_type": "code",
   "execution_count": 27,
   "metadata": {
    "collapsed": true
   },
   "outputs": [],
   "source": [
    "counts, bin_edges = np.histogram(cl, bins=maxcluster)\n",
    "cluster_ids = [j+1 for j,i in enumerate(counts) if i >= 5 and i <=200]\n",
    "clusters = {}\n",
    "for i in cluster_ids:\n",
    "    cluster = set([])\n",
    "    for k, v in enumerate(cl):\n",
    "        if v == i:\n",
    "            cluster.add(vocab[k])\n",
    "    clusters[i] = cluster\n",
    "\n",
    "for k, v in clusters.iteritems():\n",
    "    if len(v) > 10 and len(v) < 200:\n",
    "        print k, len(v)"
   ]
  },
  {
   "cell_type": "code",
   "execution_count": 28,
   "metadata": {},
   "outputs": [
    {
     "data": {
      "text/plain": [
       "[134,\n",
       " 135,\n",
       " 592,\n",
       " 611,\n",
       " 615,\n",
       " 682,\n",
       " 692,\n",
       " 696,\n",
       " 705,\n",
       " 711,\n",
       " 717,\n",
       " 722,\n",
       " 726,\n",
       " 755,\n",
       " 857,\n",
       " 860,\n",
       " 861,\n",
       " 870,\n",
       " 871,\n",
       " 877,\n",
       " 879,\n",
       " 886,\n",
       " 888,\n",
       " 911,\n",
       " 912,\n",
       " 914,\n",
       " 958,\n",
       " 981,\n",
       " 1298,\n",
       " 1300,\n",
       " 1319,\n",
       " 1391,\n",
       " 1395,\n",
       " 1397,\n",
       " 1401,\n",
       " 1456,\n",
       " 1476]"
      ]
     },
     "execution_count": 28,
     "metadata": {},
     "output_type": "execute_result"
    }
   ],
   "source": [
    "cluster_ids"
   ]
  },
  {
   "cell_type": "code",
   "execution_count": 31,
   "metadata": {},
   "outputs": [
    {
     "name": "stdout",
     "output_type": "stream",
     "text": [
      "134 31\n",
      "135 45\n",
      "911 77\n",
      "1395 126\n",
      "592 91\n",
      "860 67\n",
      "611 24\n"
     ]
    }
   ],
   "source": [
    "clusters = {}\n",
    "for i in cluster_ids:\n",
    "    cluster = set([])\n",
    "    for k, v in enumerate(cl):\n",
    "        if v == i:\n",
    "            cluster.add(vocab[k])\n",
    "    clusters[i] = cluster\n",
    "\n",
    "for k, v in clusters.iteritems():\n",
    "    if len(v) > 10 and len(v) < 200:\n",
    "        print k, len(v)"
   ]
  },
  {
   "cell_type": "code",
   "execution_count": 47,
   "metadata": {
    "collapsed": true
   },
   "outputs": [],
   "source": [
    "H = G.subgraph(clusters[611])\n"
   ]
  },
  {
   "cell_type": "code",
   "execution_count": 43,
   "metadata": {},
   "outputs": [
    {
     "data": {
      "text/plain": [
       "59"
      ]
     },
     "execution_count": 43,
     "metadata": {},
     "output_type": "execute_result"
    }
   ],
   "source": [
    "H.number_of_edges()\n"
   ]
  },
  {
   "cell_type": "code",
   "execution_count": 48,
   "metadata": {
    "scrolled": false
   },
   "outputs": [
    {
     "data": {
      "text/plain": [
       "[('pirates', 'fringe'),\n",
       " ('crushing', 'destroys'),\n",
       " ('eye', 'lowest'),\n",
       " ('disintegrate', 'threat'),\n",
       " ('retains', 'cherubs'),\n",
       " ('lowest', 'congratulates'),\n",
       " ('destroys', 'domes'),\n",
       " ('itch', 'destroys'),\n",
       " ('itch', 'pirates'),\n",
       " ('itch', 'retains'),\n",
       " ('domes', 'thwart'),\n",
       " ('entertaining', 'disintegrate'),\n",
       " ('encephalitis', 'itch')]"
      ]
     },
     "execution_count": 48,
     "metadata": {},
     "output_type": "execute_result"
    }
   ],
   "source": [
    "H.edges()"
   ]
  },
  {
   "cell_type": "code",
   "execution_count": null,
   "metadata": {
    "collapsed": true
   },
   "outputs": [],
   "source": []
  }
 ],
 "metadata": {
  "kernelspec": {
   "display_name": "Python 2",
   "language": "python",
   "name": "python2"
  },
  "language_info": {
   "codemirror_mode": {
    "name": "ipython",
    "version": 2
   },
   "file_extension": ".py",
   "mimetype": "text/x-python",
   "name": "python",
   "nbconvert_exporter": "python",
   "pygments_lexer": "ipython2",
   "version": "2.7.13"
  }
 },
 "nbformat": 4,
 "nbformat_minor": 2
}
